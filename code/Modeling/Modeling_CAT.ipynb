{
 "cells": [
  {
   "cell_type": "code",
   "execution_count": 1,
   "id": "ce5d4bb4",
   "metadata": {},
   "outputs": [],
   "source": [
    "path = '/Users/jaeyeobjeong/Desktop/포트폴리오/프로젝트/소비예측_경진대회/data'"
   ]
  },
  {
   "cell_type": "code",
   "execution_count": 2,
   "id": "580e10d4",
   "metadata": {},
   "outputs": [],
   "source": [
    "import pandas as pd\n",
    "import numpy as np\n",
    "\n",
    "import matplotlib.pyplot as plt\n",
    "import seaborn as sns\n",
    "\n",
    "from category_encoders import TargetEncoder\n",
    "from sklearn.preprocessing import OneHotEncoder \n",
    "from sklearn.preprocessing import LabelEncoder\n",
    "\n",
    "from sklearn.model_selection import train_test_split, cross_val_score\n",
    "\n",
    "from xgboost import XGBRegressor\n",
    "from catboost import CatBoostRegressor\n",
    "from sklearn.ensemble import RandomForestRegressor"
   ]
  },
  {
   "cell_type": "code",
   "execution_count": 3,
   "id": "6528ff3b",
   "metadata": {},
   "outputs": [],
   "source": [
    "train = pd.read_csv(f'{path}/train_0504.csv')\n",
    "test = pd.read_csv(f'{path}/test_0504.csv')"
   ]
  },
  {
   "cell_type": "code",
   "execution_count": 4,
   "id": "6bcb37b1",
   "metadata": {},
   "outputs": [],
   "source": [
    "# 범주형 변수 중 여러 class를 가지고 있는 변수에 대해 one-hot encoding 실시\n",
    "ohe_features = ['Education', 'Marital_Status']\n",
    "\n",
    "train_ohe, test_ohe = pd.DataFrame(), pd.DataFrame()\n",
    "for feat in ohe_features:\n",
    "    # 라벨 인코더 생성\n",
    "    encoder = OneHotEncoder()\n",
    "\n",
    "    # X_train데이터를 이용 피팅하고 라벨숫자로 변환한다\n",
    "    train_oh_encoded = encoder.fit_transform(train[feat].values.reshape(-1,1)).toarray()\n",
    "    test_oh_encoded = encoder.transform(test[feat].values.reshape(-1,1)).toarray()\n",
    "\n",
    "    train_oh = pd.DataFrame(train_oh_encoded, \n",
    "                 columns = [feat + '_' + value for value in train[feat].unique()])\n",
    "    test_oh = pd.DataFrame(test_oh_encoded, \n",
    "                 columns = [feat + '_' + value for value in train[feat].unique()])\n",
    "    \n",
    "    train_ohe = pd.concat([train_ohe, train_oh], axis = 1)\n",
    "    test_ohe = pd.concat([test_ohe, test_oh], axis = 1)"
   ]
  },
  {
   "cell_type": "code",
   "execution_count": 5,
   "id": "914a3838",
   "metadata": {},
   "outputs": [],
   "source": [
    "train = pd.concat([train, train_ohe], axis = 1)\n",
    "test = pd.concat([test, test_ohe], axis = 1)"
   ]
  },
  {
   "cell_type": "code",
   "execution_count": 6,
   "id": "0521d2c2",
   "metadata": {},
   "outputs": [
    {
     "data": {
      "text/plain": [
       "Index(['Education_Master', 'Education_Graduation', 'Education_Basic',\n",
       "       'Education_PhD', 'Education_2n Cycle', 'Marital_Status_Together',\n",
       "       'Marital_Status_Single', 'Marital_Status_Married',\n",
       "       'Marital_Status_Widow', 'Marital_Status_Divorced',\n",
       "       'Marital_Status_Alone', 'Marital_Status_YOLO', 'Marital_Status_Absurd'],\n",
       "      dtype='object')"
      ]
     },
     "execution_count": 6,
     "metadata": {},
     "output_type": "execute_result"
    }
   ],
   "source": [
    "# one-hot encoding이 적용된 것을 확인\n",
    "train_ohe.columns"
   ]
  },
  {
   "cell_type": "markdown",
   "id": "2c48fae0",
   "metadata": {},
   "source": [
    "## Validation"
   ]
  },
  {
   "cell_type": "markdown",
   "id": "25abb313",
   "metadata": {},
   "source": [
    "### Set X, y"
   ]
  },
  {
   "cell_type": "code",
   "execution_count": 7,
   "id": "67089062",
   "metadata": {},
   "outputs": [],
   "source": [
    "in_cat_features = ['Income', 'NumWebVisitsMonth', 'NumPurchases', \n",
    "                     'customer_terms', 'register_age', \n",
    "                     'Kidhome', 'Teenhome',\n",
    "                     'Sum_AcceptedCmp', 'Complain',\n",
    "                     'NumDealsPurchases', 'NumWebPurchases', 'NumCatalogPurchases', 'NumStorePurchases',\n",
    "                     'Education_Master', 'Education_Graduation', 'Education_Basic',\n",
    "                     'Education_PhD', 'Education_2n Cycle', 'Marital_Status_Together',\n",
    "                     'Marital_Status_Single', 'Marital_Status_Married',\n",
    "                     'Marital_Status_Widow', 'Marital_Status_Divorced',\n",
    "                     'Marital_Status_Alone', 'Marital_Status_YOLO', 'Marital_Status_Absurd']"
   ]
  },
  {
   "cell_type": "code",
   "execution_count": 8,
   "id": "7f96bb82",
   "metadata": {},
   "outputs": [],
   "source": [
    "X = train[in_cat_features]\n",
    "y = np.sqrt(train['target']) # Target의 분포를 고려한 변수 처리"
   ]
  },
  {
   "cell_type": "code",
   "execution_count": 9,
   "id": "f2e29cc1",
   "metadata": {},
   "outputs": [],
   "source": [
    "X_train, X_test, y_train, y_test = train_test_split(X, y, test_size=0.25, random_state=42)"
   ]
  },
  {
   "cell_type": "markdown",
   "id": "77a605a1",
   "metadata": {},
   "source": [
    "## Cross Validation"
   ]
  },
  {
   "cell_type": "code",
   "execution_count": 14,
   "id": "7b1ec1d7",
   "metadata": {},
   "outputs": [],
   "source": [
    "val_xgb = XGBRegressor(random_state = 0)\n",
    "val_rf = RandomForestRegressor(random_state = 0)\n",
    "val_cat = CatBoostRegressor(random_state = 0, verbose = 1000)"
   ]
  },
  {
   "cell_type": "code",
   "execution_count": 16,
   "id": "eb4f727e",
   "metadata": {},
   "outputs": [
    {
     "name": "stdout",
     "output_type": "stream",
     "text": [
      "Learning rate set to 0.038378\n",
      "0:\tlearn: 12.3589542\ttotal: 571us\tremaining: 571ms\n",
      "999:\tlearn: 0.6286453\ttotal: 542ms\tremaining: 0us\n",
      "Learning rate set to 0.038387\n",
      "0:\tlearn: 12.3115512\ttotal: 539us\tremaining: 539ms\n",
      "999:\tlearn: 0.6423695\ttotal: 562ms\tremaining: 0us\n",
      "Learning rate set to 0.038387\n",
      "0:\tlearn: 12.3053402\ttotal: 447us\tremaining: 447ms\n",
      "999:\tlearn: 0.6519497\ttotal: 549ms\tremaining: 0us\n",
      "Learning rate set to 0.038387\n",
      "0:\tlearn: 12.4974882\ttotal: 671us\tremaining: 671ms\n",
      "999:\tlearn: 0.5983661\ttotal: 552ms\tremaining: 0us\n",
      "Learning rate set to 0.038387\n",
      "0:\tlearn: 12.3100398\ttotal: 479us\tremaining: 479ms\n",
      "999:\tlearn: 0.6405852\ttotal: 559ms\tremaining: 0us\n",
      "\n",
      "Non Sampling XGB model : [0.91057876 0.9090089  0.91594403 0.92745861 0.93895713]\n",
      "Non Sampling RF model : [0.91332696 0.91926901 0.91848105 0.92854868 0.94214018]\n",
      "Non Sampling CAT model : [0.92024365 0.93797858 0.93352201 0.94016911 0.94541048]\n"
     ]
    }
   ],
   "source": [
    "scores_xgb = cross_val_score(val_xgb, X_train, y_train, cv = 5)\n",
    "scores_rf = cross_val_score(val_rf, X_train, y_train, cv = 5)\n",
    "scores_cat = cross_val_score(val_cat, X_train, y_train, cv = 5)\n",
    "\n",
    "print()\n",
    "print('Non Sampling XGB model :', scores_xgb)\n",
    "print('Non Sampling RF model :', scores_rf)\n",
    "print('Non Sampling CAT model :', scores_cat)"
   ]
  },
  {
   "cell_type": "markdown",
   "id": "395497c6",
   "metadata": {},
   "source": [
    "- CatBoost의 성능이 CV에서 전체적으로 가장 높은 정확도(Accuracy)를 보임"
   ]
  },
  {
   "cell_type": "markdown",
   "id": "4bb5509c",
   "metadata": {},
   "source": [
    "### Scoring by NMAE"
   ]
  },
  {
   "cell_type": "code",
   "execution_count": 19,
   "id": "51ae36a1",
   "metadata": {},
   "outputs": [],
   "source": [
    "# 대회 평가지표\n",
    "import numpy as np\n",
    "from sklearn.metrics import mean_squared_error\n",
    "\n",
    "def nmae(true, pred):\n",
    "\n",
    "    mae = np.mean(np.abs(true-pred))\n",
    "    score = mae / np.mean(np.abs(true))\n",
    "    \n",
    "    return score"
   ]
  },
  {
   "cell_type": "code",
   "execution_count": 20,
   "id": "412baa16",
   "metadata": {},
   "outputs": [
    {
     "name": "stdout",
     "output_type": "stream",
     "text": [
      "Learning rate set to 0.039763\n",
      "0:\tlearn: 12.3323902\ttotal: 1.18ms\tremaining: 1.18s\n",
      "500:\tlearn: 1.2882153\ttotal: 291ms\tremaining: 290ms\n",
      "999:\tlearn: 0.7010502\ttotal: 578ms\tremaining: 0us\n",
      "모델 NMAE: 0.15961383631608758\n"
     ]
    }
   ],
   "source": [
    "val_cat = CatBoostRegressor(random_state = 0, verbose = 500)\n",
    "val_cat.fit(X_train, y_train)\n",
    "y_pred = val_cat.predict(X_test) # y예측\n",
    "\n",
    "print(f'모델 NMAE: {nmae(y_test**2,y_pred**2)}')"
   ]
  },
  {
   "cell_type": "code",
   "execution_count": 21,
   "id": "b6120ffd",
   "metadata": {},
   "outputs": [
    {
     "name": "stdout",
     "output_type": "stream",
     "text": [
      "모델 NMAE: 0.17695867412602348\n"
     ]
    }
   ],
   "source": [
    "val_rf = RandomForestRegressor(random_state = 0)\n",
    "val_rf.fit(X_train, y_train)\n",
    "y_pred = val_rf.predict(X_test) # y예측\n",
    "\n",
    "print(f'모델 NMAE: {nmae(y_test**2,y_pred**2)}')"
   ]
  },
  {
   "cell_type": "code",
   "execution_count": 22,
   "id": "20a71335",
   "metadata": {},
   "outputs": [
    {
     "name": "stdout",
     "output_type": "stream",
     "text": [
      "모델 NMAE: 0.16772335459029825\n"
     ]
    }
   ],
   "source": [
    "val_xgb = XGBRegressor(random_state = 0)\n",
    "val_xgb.fit(X_train, y_train)\n",
    "y_pred = val_xgb.predict(X_test) # y예측\n",
    "\n",
    "print(f'모델 NMAE: {nmae(y_test**2,y_pred**2)}')"
   ]
  },
  {
   "cell_type": "markdown",
   "id": "5ceb3aa8",
   "metadata": {},
   "source": [
    "- CatBoost의 성능이 대회 평가지표인 NMAE에서도 가장 좋은 성능"
   ]
  },
  {
   "cell_type": "markdown",
   "id": "de9fe554",
   "metadata": {},
   "source": [
    "## Submission Modeling"
   ]
  },
  {
   "cell_type": "code",
   "execution_count": 28,
   "id": "2512efc1",
   "metadata": {},
   "outputs": [],
   "source": [
    "X_train = train[in_cat_features]\n",
    "y_train = np.sqrt(train['target'])\n",
    "\n",
    "X_test = test[in_cat_features]"
   ]
  },
  {
   "cell_type": "code",
   "execution_count": 29,
   "id": "0c5088f5",
   "metadata": {
    "scrolled": true
   },
   "outputs": [
    {
     "name": "stdout",
     "output_type": "stream",
     "text": [
      "(1108, 26) (1108,) (1108, 26)\n"
     ]
    }
   ],
   "source": [
    "print(X_train.shape, y_train.shape, X_test.shape)"
   ]
  },
  {
   "cell_type": "code",
   "execution_count": 30,
   "id": "1d505684",
   "metadata": {},
   "outputs": [
    {
     "name": "stdout",
     "output_type": "stream",
     "text": [
      "Learning rate set to 0.041612\n",
      "0:\tlearn: 12.3997651\ttotal: 1.49ms\tremaining: 1.49s\n",
      "500:\tlearn: 1.4351931\ttotal: 321ms\tremaining: 320ms\n",
      "999:\tlearn: 0.8761771\ttotal: 638ms\tremaining: 0us\n"
     ]
    }
   ],
   "source": [
    "cat = CatBoostRegressor(random_state = 0, verbose = 500)\n",
    "cat.fit(X_train, y_train)\n",
    "\n",
    "pred = cat.predict(X_test)"
   ]
  },
  {
   "cell_type": "code",
   "execution_count": 31,
   "id": "6a8e3086",
   "metadata": {},
   "outputs": [],
   "source": [
    "submission = pd.read_csv(f'{path}/sample_submission.csv')"
   ]
  },
  {
   "cell_type": "code",
   "execution_count": 32,
   "id": "b4a21c5a",
   "metadata": {},
   "outputs": [],
   "source": [
    "submission['target'] = [0 if p < 0 else p**2 for p in pred]"
   ]
  },
  {
   "cell_type": "code",
   "execution_count": 41,
   "id": "25d701ce",
   "metadata": {},
   "outputs": [
    {
     "data": {
      "image/png": "[encoded data removed]",
      "text/plain": [
       "<Figure size 720x576 with 1 Axes>"
      ]
     },
     "metadata": {
      "needs_background": "light"
     },
     "output_type": "display_data"
    }
   ],
   "source": [
    "# catboost feature importance\n",
    "feature_imp = pd.DataFrame(\n",
    "{\n",
    "    'feature_name' : in_cat_features,\n",
    "    'feat_imp' : cat.feature_importances_\n",
    "})\n",
    "feature_imp.sort_values(by = 'feat_imp', ascending=True, inplace=True)\n",
    "\n",
    "plt.figure(figsize = (10, 8))\n",
    "plt.title('CatBoost model Feature Importance', fontsize = 20)\n",
    "plt.barh('feature_name', 'feat_imp', data = feature_imp)\n",
    "plt.show()"
   ]
  },
  {
   "cell_type": "markdown",
   "id": "e70dab82",
   "metadata": {},
   "source": []
  },
  {
   "cell_type": "markdown",
   "id": "650ef3f3",
   "metadata": {},
   "source": [
    "## Model Ensemble\n",
    "\n",
    "### IDEA\n",
    "\n",
    "- 다중 공선성이 높은 feature들을 다른 모델에 넣고 앙상블 시도"
   ]
  },
  {
   "cell_type": "code",
   "execution_count": 22,
   "id": "1deca2af",
   "metadata": {},
   "outputs": [],
   "source": [
    "cat_features = []\n",
    "xgb_features = []"
   ]
  },
  {
   "cell_type": "markdown",
   "id": "2b6ced57",
   "metadata": {},
   "source": [
    "## Submit Prediction"
   ]
  },
  {
   "cell_type": "code",
   "execution_count": 23,
   "id": "57222270",
   "metadata": {
    "scrolled": true
   },
   "outputs": [
    {
     "data": {
      "text/plain": [
       "26"
      ]
     },
     "execution_count": 23,
     "metadata": {},
     "output_type": "execute_result"
    }
   ],
   "source": [
    "len(in_model_features)"
   ]
  },
  {
   "cell_type": "code",
   "execution_count": 24,
   "id": "1175f6df",
   "metadata": {},
   "outputs": [],
   "source": [
    "submission.to_csv(f\"{path}/Submissions/cat_0513_{len(in_model_features)}_sqrt.csv\", index=False)"
   ]
  },
  {
   "cell_type": "markdown",
   "id": "653def41",
   "metadata": {},
   "source": [
    "## Submission Analysis"
   ]
  },
  {
   "cell_type": "code",
   "execution_count": 142,
   "id": "c7cffcae",
   "metadata": {},
   "outputs": [
    {
     "name": "stdout",
     "output_type": "stream",
     "text": [
      "52075.809566787 12.779783393501805\n",
      "52418.693140794225 12.334837545126353\n"
     ]
    }
   ],
   "source": [
    "print(train.Income.mean(), train.NumPurchases.mean())\n",
    "print(test.Income.mean(), test.NumPurchases.mean())"
   ]
  },
  {
   "cell_type": "code",
   "execution_count": 145,
   "id": "5e4cf133",
   "metadata": {},
   "outputs": [
    {
     "name": "stdout",
     "output_type": "stream",
     "text": [
      "617.1218411552346 412.0\n",
      "593.915173530633 382.0635517223699\n"
     ]
    }
   ],
   "source": [
    "print(train.target.mean(), np.median(train.target))\n",
    "print(pred.mean(), np.median(pred))"
   ]
  },
  {
   "cell_type": "code",
   "execution_count": 107,
   "id": "273536fc",
   "metadata": {
    "scrolled": true
   },
   "outputs": [
    {
     "name": "stdout",
     "output_type": "stream",
     "text": [
      "617.1218411552346 412.0\n",
      "589.793491366255 367.0823346996349\n"
     ]
    }
   ],
   "source": [
    "print(train.target.mean(), np.median(train.target))\n",
    "print(submission.target.mean(), np.median(submission.target))"
   ]
  },
  {
   "cell_type": "code",
   "execution_count": 133,
   "id": "5220a0df",
   "metadata": {},
   "outputs": [
    {
     "data": {
      "text/plain": [
       "<matplotlib.legend.Legend at 0x29824aa00>"
      ]
     },
     "execution_count": 133,
     "metadata": {},
     "output_type": "execute_result"
    },
    {
     "data": {
      "image/png": "[encoded data removed]",
      "text/plain": [
       "<Figure size 432x288 with 1 Axes>"
      ]
     },
     "metadata": {
      "needs_background": "light"
     },
     "output_type": "display_data"
    }
   ],
   "source": [
    "sns.kdeplot(train.query('Income > 100000')['Income'], label = 'Train')\n",
    "sns.kdeplot(test.query('Income > 100000')['Income'], label = 'Test')\n",
    "plt.legend()"
   ]
  },
  {
   "cell_type": "code",
   "execution_count": 151,
   "id": "ee0b0935",
   "metadata": {},
   "outputs": [
    {
     "data": {
      "text/plain": [
       "<AxesSubplot:xlabel='target', ylabel='Density'>"
      ]
     },
     "execution_count": 151,
     "metadata": {},
     "output_type": "execute_result"
    },
    {
     "data": {
      "image/png": "[encoded data removed]",
      "text/plain": [
       "<Figure size 432x288 with 1 Axes>"
      ]
     },
     "metadata": {
      "needs_background": "light"
     },
     "output_type": "display_data"
    }
   ],
   "source": [
    "#sns.kdeplot(y_train)\n",
    "sns.kdeplot(np.sqrt(y_train))"
   ]
  },
  {
   "cell_type": "code",
   "execution_count": 108,
   "id": "5e7f61ee",
   "metadata": {},
   "outputs": [
    {
     "data": {
      "text/plain": [
       "<AxesSubplot:xlabel='target', ylabel='Density'>"
      ]
     },
     "execution_count": 108,
     "metadata": {},
     "output_type": "execute_result"
    },
    {
     "data": {
      "image/png": "[encoded data removed]",
      "text/plain": [
       "<Figure size 432x288 with 1 Axes>"
      ]
     },
     "metadata": {
      "needs_background": "light"
     },
     "output_type": "display_data"
    }
   ],
   "source": [
    "sns.kdeplot(submission['target'])"
   ]
  }
 ],
 "metadata": {
  "kernelspec": {
   "display_name": "Python 3 (ipykernel)",
   "language": "python",
   "name": "python3"
  },
  "language_info": {
   "codemirror_mode": {
    "name": "ipython",
    "version": 3
   },
   "file_extension": ".py",
   "mimetype": "text/x-python",
   "name": "python",
   "nbconvert_exporter": "python",
   "pygments_lexer": "ipython3",
   "version": "3.9.9"
  }
 },
 "nbformat": 4,
 "nbformat_minor": 5
}
