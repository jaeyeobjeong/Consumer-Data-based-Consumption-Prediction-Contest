{
 "cells": [
  {
   "cell_type": "code",
   "execution_count": 2,
   "id": "ce5d4bb4",
   "metadata": {},
   "outputs": [],
   "source": [
    "path = '/Users/jaeyeobjeong/Desktop/포트폴리오/프로젝트/소비예측_경진대회/data'"
   ]
  },
  {
   "cell_type": "code",
   "execution_count": 3,
   "id": "5e336392",
   "metadata": {},
   "outputs": [],
   "source": [
    "import pandas as pd\n",
    "import numpy as np\n",
    "\n",
    "import matplotlib.pyplot as plt\n",
    "import seaborn as sns\n",
    "\n",
    "from category_encoders import TargetEncoder\n",
    "from sklearn.preprocessing import OneHotEncoder \n",
    "from sklearn.preprocessing import LabelEncoder\n",
    "\n",
    "from sklearn.model_selection import train_test_split, cross_val_score\n",
    "\n",
    "from xgboost import XGBRegressor\n",
    "from lightgbm import LGBMRegressor\n",
    "from sklearn.ensemble import RandomForestRegressor"
   ]
  },
  {
   "cell_type": "code",
   "execution_count": 10,
   "id": "6528ff3b",
   "metadata": {
    "scrolled": true
   },
   "outputs": [],
   "source": [
    "train = pd.read_csv(f'{path}/train_0504.csv')\n",
    "test = pd.read_csv(f'{path}/test_0504.csv')"
   ]
  },
  {
   "cell_type": "code",
   "execution_count": 11,
   "id": "6bcb37b1",
   "metadata": {},
   "outputs": [],
   "source": [
    "ohe_features = ['Education', 'Marital_Status']\n",
    "\n",
    "train_ohe, test_ohe = pd.DataFrame(), pd.DataFrame()\n",
    "for feat in ohe_features:\n",
    "    # 라벨 인코더 생성\n",
    "    encoder = OneHotEncoder()\n",
    "\n",
    "    # X_train데이터를 이용 피팅하고 라벨숫자로 변환한다\n",
    "    train_oh_encoded = encoder.fit_transform(train[feat].values.reshape(-1,1)).toarray()\n",
    "    test_oh_encoded = encoder.transform(test[feat].values.reshape(-1,1)).toarray()\n",
    "\n",
    "    train_oh = pd.DataFrame(train_oh_encoded, \n",
    "                 columns = [feat + '_' + value for value in train[feat].unique()])\n",
    "    test_oh = pd.DataFrame(test_oh_encoded, \n",
    "                 columns = [feat + '_' + value for value in train[feat].unique()])\n",
    "    \n",
    "    train_ohe = pd.concat([train_ohe, train_oh], axis = 1)\n",
    "    test_ohe = pd.concat([test_ohe, test_oh], axis = 1)"
   ]
  },
  {
   "cell_type": "code",
   "execution_count": 12,
   "id": "914a3838",
   "metadata": {},
   "outputs": [],
   "source": [
    "train = pd.concat([train, train_ohe], axis = 1)\n",
    "test = pd.concat([test, test_ohe], axis = 1)"
   ]
  },
  {
   "cell_type": "code",
   "execution_count": 13,
   "id": "0521d2c2",
   "metadata": {},
   "outputs": [
    {
     "data": {
      "text/plain": [
       "Index(['Education_Master', 'Education_Graduation', 'Education_Basic',\n",
       "       'Education_PhD', 'Education_2n Cycle', 'Marital_Status_Together',\n",
       "       'Marital_Status_Single', 'Marital_Status_Married',\n",
       "       'Marital_Status_Widow', 'Marital_Status_Divorced',\n",
       "       'Marital_Status_Alone', 'Marital_Status_YOLO', 'Marital_Status_Absurd'],\n",
       "      dtype='object')"
      ]
     },
     "execution_count": 13,
     "metadata": {},
     "output_type": "execute_result"
    }
   ],
   "source": [
    "train_ohe.columns"
   ]
  },
  {
   "cell_type": "markdown",
   "id": "2c48fae0",
   "metadata": {},
   "source": [
    "## Validation"
   ]
  },
  {
   "cell_type": "markdown",
   "id": "25abb313",
   "metadata": {},
   "source": [
    "### Set X, y"
   ]
  },
  {
   "cell_type": "code",
   "execution_count": 14,
   "id": "67089062",
   "metadata": {},
   "outputs": [],
   "source": [
    "# xgboost는 catboost보다 범주형 변수에 대한 fit이 떨어지기 때문에, 범주형 변수를 제외하고 학습 진행\n",
    "\n",
    "in_xgb_features = ['Income', 'NumWebVisitsMonth', 'NumPurchases', \n",
    "                     'register_age', 'shopping_interval',\n",
    "                     'diff_kid_teen',\n",
    "                     'Sum_AcceptedCmp', \n",
    "                     'Complain',\n",
    "                     'NumDealsPurchases', 'NumWebPurchases', 'NumCatalogPurchases', 'NumStorePurchases']"
   ]
  },
  {
   "cell_type": "code",
   "execution_count": 15,
   "id": "7f96bb82",
   "metadata": {},
   "outputs": [],
   "source": [
    "X = train[in_xgb_features]\n",
    "y = np.sqrt(train['target'])"
   ]
  },
  {
   "cell_type": "code",
   "execution_count": 16,
   "id": "f2e29cc1",
   "metadata": {},
   "outputs": [],
   "source": [
    "X_train, X_test, y_train, y_test = train_test_split(X, y, test_size=0.25, random_state=42)"
   ]
  },
  {
   "cell_type": "markdown",
   "id": "77a605a1",
   "metadata": {},
   "source": [
    "## Cross Validation"
   ]
  },
  {
   "cell_type": "code",
   "execution_count": 17,
   "id": "7b1ec1d7",
   "metadata": {},
   "outputs": [],
   "source": [
    "val_xgb = XGBRegressor(random_state = 0)\n",
    "val_lgb = LGBMRegressor(boosting_type = 'gbdt', random_state = 0)\n",
    "val_rf = RandomForestRegressor(random_state = 0)"
   ]
  },
  {
   "cell_type": "code",
   "execution_count": 20,
   "id": "eb4f727e",
   "metadata": {},
   "outputs": [
    {
     "name": "stdout",
     "output_type": "stream",
     "text": [
      "Non Sampling XGB model : [0.91441783 0.8978083  0.92016949 0.92915891 0.92904592] Mean : 0.9181200897629637\n",
      "Non Sampling LGBM model : [0.92063007 0.91513141 0.92068862 0.94043723 0.93500408] Mean : 0.9263782816196727\n",
      "Non Sampling rf model : [0.91364048 0.920958   0.91280933 0.92328927 0.93356579] Mean : 0.920852574732843\n"
     ]
    }
   ],
   "source": [
    "scores_xgb = cross_val_score(val_xgb, X_train, y_train, cv = 5)\n",
    "scores_lgb = cross_val_score(val_lgb, X_train, y_train, cv = 5)\n",
    "scores_rf = cross_val_score(val_rf, X_train, y_train, cv = 5)\n",
    "\n",
    "print('Non Sampling XGB model :', scores_xgb, 'Mean :', np.mean(scores_xgb))\n",
    "print('Non Sampling LGBM model :', scores_lgb, 'Mean :', np.mean(scores_lgb))\n",
    "print('Non Sampling rf model :', scores_rf, 'Mean :', np.mean(scores_rf))"
   ]
  },
  {
   "cell_type": "markdown",
   "id": "4bb5509c",
   "metadata": {},
   "source": [
    "### Scoring by NMAE"
   ]
  },
  {
   "cell_type": "code",
   "execution_count": 21,
   "id": "51ae36a1",
   "metadata": {},
   "outputs": [],
   "source": [
    "import numpy as np\n",
    "from sklearn.metrics import mean_squared_error\n",
    "\n",
    "def nmae(true, pred):\n",
    "\n",
    "    mae = np.mean(np.abs(true-pred))\n",
    "    score = mae / np.mean(np.abs(true))\n",
    "    \n",
    "    return score"
   ]
  },
  {
   "cell_type": "code",
   "execution_count": 22,
   "id": "20a71335",
   "metadata": {},
   "outputs": [
    {
     "name": "stdout",
     "output_type": "stream",
     "text": [
      "모델 NMAE : 0.15800960889139296\n"
     ]
    }
   ],
   "source": [
    "val_xgb = XGBRegressor(random_state = 0)\n",
    "val_xgb.fit(X_train, y_train)\n",
    "xgb_pred = val_xgb.predict(X_test) # y예측\n",
    "\n",
    "print(f'모델 NMAE : {nmae(y_test**2,xgb_pred**2)}') #if sqrt processing y\n",
    "#print(f'모델 NMAE : {nmae(2**(y_test),2**(xgb_pred))}') #if log2 processing y\n",
    "#print(f'모델 NMAE : {nmae(y_test,xgb_pred)}')"
   ]
  },
  {
   "cell_type": "code",
   "execution_count": 26,
   "id": "11a75521",
   "metadata": {
    "scrolled": true
   },
   "outputs": [
    {
     "name": "stdout",
     "output_type": "stream",
     "text": [
      "모델 NMAE: 0.1758877155924433\n"
     ]
    }
   ],
   "source": [
    "val_lgb = LGBMRegressor(random_state = 0)\n",
    "val_lgb.fit(X_train, y_train)\n",
    "lgb_pred = val_lgb.predict(X_test) # y예측\n",
    "\n",
    "print(f'모델 NMAE: {nmae(y_test**2,lgb_pred**2)}')\n",
    "#print(f'모델 NMAE: {nmae(2**(y_test),2**(lgb_pred))}')\n",
    "#print(f'모델 NMAE: {nmae(y_test,lgb_pred)}')"
   ]
  },
  {
   "cell_type": "code",
   "execution_count": 25,
   "id": "7a3529e3",
   "metadata": {},
   "outputs": [
    {
     "name": "stdout",
     "output_type": "stream",
     "text": [
      "모델 NMAE: 0.18071805464418772\n"
     ]
    }
   ],
   "source": [
    "val_rf = RandomForestRegressor(random_state = 0)\n",
    "val_rf.fit(X_train, y_train)\n",
    "rf_pred = val_rf.predict(X_test) # y예측\n",
    "\n",
    "print(f'모델 NMAE: {nmae(y_test**2,rf_pred**2)}') #if np.sqrt(y_test)\n",
    "#print(f'모델 NMAE: {nmae(2**(y_test),2**(rf_pred))}') #if np.log2(y_test)\n",
    "#print(f'모델 NMAE: {nmae(y_test,rf_pred)}')"
   ]
  },
  {
   "cell_type": "markdown",
   "id": "c7679574",
   "metadata": {},
   "source": [
    "- 정확도 기반의 CV에서는 LGBM > RandomForest > XGB 순의 성능을 보임.\n",
    "- 하지만, 대회 평가지표인 NMAE에서 XGB > LGBM > RF 순의 성능을 보였기 때문에, XGB를 학습모델로 선택"
   ]
  },
  {
   "cell_type": "markdown",
   "id": "16830984",
   "metadata": {},
   "source": [
    "## Parameter Tuning"
   ]
  },
  {
   "cell_type": "code",
   "execution_count": 11,
   "id": "8229a09e",
   "metadata": {},
   "outputs": [],
   "source": [
    "from sklearn.model_selection import GridSearchCV"
   ]
  },
  {
   "cell_type": "code",
   "execution_count": 12,
   "id": "b8729843",
   "metadata": {},
   "outputs": [],
   "source": [
    "xgb_parameters = {\n",
    "    'eta' : [0.01, 0.05, 0.1],\n",
    "    'min_child_weight' : np.arange(1, 6, 2),\n",
    "    'max_depth' : np.arange(5, 12, 1),\n",
    "    'colsample_bytree' : np.arange(0.5, 1.1, 0.25),\n",
    "    'eval_metric' : ['rmse', 'mae']\n",
    "}"
   ]
  },
  {
   "cell_type": "code",
   "execution_count": 13,
   "id": "b2002f15",
   "metadata": {},
   "outputs": [],
   "source": [
    "val_xgb = XGBRegressor(random_state = 0)"
   ]
  },
  {
   "cell_type": "code",
   "execution_count": 14,
   "id": "6742253a",
   "metadata": {},
   "outputs": [],
   "source": [
    "xgb_grid = GridSearchCV(val_xgb, xgb_parameters)"
   ]
  },
  {
   "cell_type": "code",
   "execution_count": 15,
   "id": "f34000f9",
   "metadata": {},
   "outputs": [
    {
     "data": {
      "text/plain": [
       "GridSearchCV(estimator=XGBRegressor(base_score=None, booster=None,\n",
       "                                    callbacks=None, colsample_bylevel=None,\n",
       "                                    colsample_bynode=None,\n",
       "                                    colsample_bytree=None,\n",
       "                                    early_stopping_rounds=None,\n",
       "                                    enable_categorical=False, eval_metric=None,\n",
       "                                    gamma=None, gpu_id=None, grow_policy=None,\n",
       "                                    importance_type=None,\n",
       "                                    interaction_constraints=None,\n",
       "                                    learning_rate=None, max_bin=None,\n",
       "                                    max_cat_to_o...\n",
       "                                    min_child_weight=None, missing=nan,\n",
       "                                    monotone_constraints=None, n_estimators=100,\n",
       "                                    n_jobs=None, num_parallel_tree=None,\n",
       "                                    predictor=None, random_state=0,\n",
       "                                    reg_alpha=None, reg_lambda=None, ...),\n",
       "             param_grid={'colsample_bytree': array([0.5 , 0.75, 1.  ]),\n",
       "                         'eta': [0.01, 0.05, 0.1],\n",
       "                         'eval_metric': ['rmse', 'mae'],\n",
       "                         'max_depth': array([ 5,  6,  7,  8,  9, 10, 11]),\n",
       "                         'min_child_weight': array([1, 3, 5])})"
      ]
     },
     "execution_count": 15,
     "metadata": {},
     "output_type": "execute_result"
    }
   ],
   "source": [
    "xgb_grid.fit(X_train, y_train)"
   ]
  },
  {
   "cell_type": "code",
   "execution_count": 16,
   "id": "8da65e96",
   "metadata": {},
   "outputs": [
    {
     "data": {
      "text/plain": [
       "({'colsample_bytree': 0.75,\n",
       "  'eta': 0.05,\n",
       "  'eval_metric': 'rmse',\n",
       "  'max_depth': 7,\n",
       "  'min_child_weight': 5},\n",
       " 0.9303393200899517)"
      ]
     },
     "execution_count": 16,
     "metadata": {},
     "output_type": "execute_result"
    }
   ],
   "source": [
    "xgb_grid.best_params_, xgb_grid.best_score_"
   ]
  },
  {
   "cell_type": "code",
   "execution_count": 28,
   "id": "84077f2b",
   "metadata": {},
   "outputs": [
    {
     "name": "stdout",
     "output_type": "stream",
     "text": [
      "모델 NMAE : 0.1684207699572746\n"
     ]
    }
   ],
   "source": [
    "# Grid Search Hyper Parameters\n",
    "val_xgb = XGBRegressor(random_state = 0,\n",
    "                       colsample_bytree= 0.75,\n",
    "                       eta= 0.05,\n",
    "                       eval_metric= 'rmse',\n",
    "                       max_depth= 7,\n",
    "                       min_child_weight= 5\n",
    "                      )\n",
    "val_xgb.fit(X_train, y_train)\n",
    "xgb_pred = val_xgb.predict(X_test) # y예측\n",
    "\n",
    "print(f'모델 NMAE : {nmae(y_test**2,xgb_pred**2)}') #if np.sqrt(y_test)\n",
    "#print(f'모델 NMAE : {nmae(2**(y_test),2**(xgb_pred))}') #if np.log2(y_test)\n",
    "#print(f'모델 NMAE : {nmae(y_test,xgb_pred)}')"
   ]
  },
  {
   "cell_type": "markdown",
   "id": "1177b468",
   "metadata": {},
   "source": [
    "- Parameter Tuning 후 오히려 기존의 모델보다 성능이 하락한 모습을 보임."
   ]
  },
  {
   "cell_type": "markdown",
   "id": "cef947fe",
   "metadata": {},
   "source": [
    "## Y값 처리에 따른 실제값 vs 예측값 분포 비교"
   ]
  },
  {
   "cell_type": "code",
   "execution_count": 78,
   "id": "dcc0cc88",
   "metadata": {},
   "outputs": [],
   "source": [
    "X = train[in_xgb_features]\n",
    "y = train['target']\n",
    "y_sqrt = np.sqrt(train['target'])\n",
    "y_log2 = np.log2(train['target'])\n",
    "\n",
    "X_train, X_test, y_train, y_test = train_test_split(X, y, test_size=0.25, random_state=42)\n",
    "X_train, X_test, y_train_sqrt, y_test_sqrt = train_test_split(X, y_sqrt, test_size=0.25, random_state=42)\n",
    "X_train, X_test, y_train_log, y_test_log = train_test_split(X, y_log2, test_size=0.25, random_state=42)"
   ]
  },
  {
   "cell_type": "code",
   "execution_count": 80,
   "id": "cefa2a93",
   "metadata": {},
   "outputs": [],
   "source": [
    "xgb_preds = []\n",
    "for train_processed, test_processed in zip([y_train, y_train_sqrt, y_train_log], [y_test, y_test_sqrt, y_test_log]):\n",
    "    val_xgb = XGBRegressor(random_state = 0)\n",
    "    val_xgb.fit(X_train, train_processed)\n",
    "    xgb_preds.append(val_xgb.predict(X_test))"
   ]
  },
  {
   "cell_type": "code",
   "execution_count": 82,
   "id": "19a674d1",
   "metadata": {},
   "outputs": [
    {
     "name": "stdout",
     "output_type": "stream",
     "text": [
      "XGB NMAE :  0.16844303801141838\n"
     ]
    },
    {
     "data": {
      "image/png": "[encoded data removed]",
      "text/plain": [
       "<Figure size 1152x432 with 3 Axes>"
      ]
     },
     "metadata": {
      "needs_background": "light"
     },
     "output_type": "display_data"
    }
   ],
   "source": [
    "fig, (ax1, ax2, ax3) = plt.subplots(1, 3, figsize=(16,6))\n",
    "fig.suptitle('Distribution of Precessed Y', fontsize= 25)\n",
    "\n",
    "sns.kdeplot(y_test, ax = ax1).set(title = 'Non Processing Target')\n",
    "sns.kdeplot(xgb_preds[0], ax = ax1)\n",
    "ax1.legend(['actual','xgb'])\n",
    "\n",
    "sns.kdeplot(y_test_sqrt**2, ax = ax2).set(title = 'Sqrt Processing Target')\n",
    "sns.kdeplot(xgb_preds[1]**2, ax = ax2)\n",
    "ax2.legend(['actual','xgb'])\n",
    "\n",
    "sns.kdeplot(2**y_test_log, ax = ax3).set(title = 'Log2 Processing Target')\n",
    "sns.kdeplot(2**xgb_preds[2], ax = ax3)\n",
    "ax3.legend(['actual','xgb'])\n",
    "\n",
    "print('XGB NMAE : ', nmae(y_test,xgb_pred))\n",
    "plt.show()"
   ]
  },
  {
   "cell_type": "code",
   "execution_count": 84,
   "id": "f4119fc9",
   "metadata": {},
   "outputs": [
    {
     "name": "stdout",
     "output_type": "stream",
     "text": [
      "Non Processing Y NMAE :  0.16844303801141838\n",
      "Sqrt Processing Y NMAE :  0.15800960889139296\n",
      "Log2 Processing Y NMAE :  0.17307708184139597\n"
     ]
    }
   ],
   "source": [
    "print('Non Processing Y NMAE : ', nmae(y_test,xgb_preds[0]))\n",
    "print('Sqrt Processing Y NMAE : ', nmae(y_test_sqrt**2,xgb_preds[1]**2))\n",
    "print('Log2 Processing Y NMAE : ', nmae(2**y_test_log,2**xgb_preds[2]))"
   ]
  },
  {
   "cell_type": "code",
   "execution_count": 36,
   "id": "5587ec73",
   "metadata": {},
   "outputs": [
    {
     "data": {
      "image/png": "[encoded data removed]",
      "text/plain": [
       "<Figure size 432x288 with 1 Axes>"
      ]
     },
     "metadata": {
      "needs_background": "light"
     },
     "output_type": "display_data"
    },
    {
     "name": "stdout",
     "output_type": "stream",
     "text": [
      "XGB NMAE :  0.17307708184139597\n"
     ]
    }
   ],
   "source": [
    "\n",
    "print('XGB NMAE : ', nmae(2**y_test,2**xgb_pred))"
   ]
  },
  {
   "cell_type": "code",
   "execution_count": 40,
   "id": "2ebde11a",
   "metadata": {},
   "outputs": [
    {
     "data": {
      "image/png": "[encoded data removed]",
      "text/plain": [
       "<Figure size 432x288 with 1 Axes>"
      ]
     },
     "metadata": {
      "needs_background": "light"
     },
     "output_type": "display_data"
    },
    {
     "name": "stdout",
     "output_type": "stream",
     "text": [
      "XGB NMAE :  0.16844303801141838\n"
     ]
    }
   ],
   "source": [
    "sns.kdeplot(y_test)\n",
    "sns.kdeplot(xgb_pred)\n",
    "plt.title('Non Processing Target')\n",
    "plt.legend(['actual','xgb'])\n",
    "plt.show()\n",
    "\n",
    "print('XGB NMAE : ', nmae(y_test,xgb_pred))"
   ]
  },
  {
   "cell_type": "markdown",
   "id": "6a5b07c5",
   "metadata": {},
   "source": [
    "- NMAE 기준 가장 성능이 좋은 처리는 Sqrt 처리\n",
    "- 그러나, 1000이상 값에 대해 예측 분포의 차이가 실제와 크게 나타남."
   ]
  },
  {
   "cell_type": "markdown",
   "id": "66886020",
   "metadata": {},
   "source": [
    "## Feature Importance"
   ]
  },
  {
   "cell_type": "code",
   "execution_count": 42,
   "id": "2c08a0d5",
   "metadata": {},
   "outputs": [
    {
     "data": {
      "image/png": "[encoded data removed]",
      "text/plain": [
       "<Figure size 432x864 with 1 Axes>"
      ]
     },
     "metadata": {
      "needs_background": "light"
     },
     "output_type": "display_data"
    }
   ],
   "source": [
    "# xgb feature importance\n",
    "feature_imp = pd.DataFrame(\n",
    "{\n",
    "    'feature_name' : in_xgb_features,\n",
    "    'feat_imp' : val_xgb.feature_importances_\n",
    "})\n",
    "feature_imp.sort_values(by = 'feat_imp', ascending=True, inplace=True)\n",
    "\n",
    "plt.figure(figsize = (6, 12))\n",
    "plt.barh('feature_name', 'feat_imp', data = feature_imp)\n",
    "plt.show()"
   ]
  },
  {
   "cell_type": "markdown",
   "id": "968e193b",
   "metadata": {},
   "source": [
    "- 하나의 변수(NumCatalogPurchases)에 지나치게 의존하는 경향을 보임."
   ]
  },
  {
   "cell_type": "markdown",
   "id": "de9fe554",
   "metadata": {},
   "source": [
    "## Submission Modeling"
   ]
  },
  {
   "cell_type": "code",
   "execution_count": 146,
   "id": "2512efc1",
   "metadata": {},
   "outputs": [],
   "source": [
    "X_train = train[in_xgb_features]\n",
    "y_train = np.sqrt(train['target'])\n",
    "\n",
    "X_test = test[in_xgb_features]"
   ]
  },
  {
   "cell_type": "code",
   "execution_count": 147,
   "id": "0c5088f5",
   "metadata": {
    "scrolled": true
   },
   "outputs": [
    {
     "name": "stdout",
     "output_type": "stream",
     "text": [
      "(1108, 12) (1108,) (1108, 12)\n"
     ]
    }
   ],
   "source": [
    "print(X_train.shape, y_train.shape, X_test.shape)"
   ]
  },
  {
   "cell_type": "code",
   "execution_count": 148,
   "id": "694d6973",
   "metadata": {},
   "outputs": [],
   "source": [
    "xgb = XGBRegressor(random_state = 0)\n",
    "xgb.fit(X_train, y_train)\n",
    "\n",
    "pred = xgb.predict(X_test)"
   ]
  },
  {
   "cell_type": "code",
   "execution_count": 149,
   "id": "6a8e3086",
   "metadata": {},
   "outputs": [],
   "source": [
    "submission = pd.read_csv(f'{path}/sample_submission.csv')"
   ]
  },
  {
   "cell_type": "code",
   "execution_count": 150,
   "id": "b4a21c5a",
   "metadata": {},
   "outputs": [],
   "source": [
    "submission['target'] = [0 if p < 0 else p**2 for p in pred]"
   ]
  },
  {
   "cell_type": "code",
   "execution_count": 151,
   "id": "1db08f6f",
   "metadata": {},
   "outputs": [
    {
     "data": {
      "text/html": [
       "<div>\n",
       "<style scoped>\n",
       "    .dataframe tbody tr th:only-of-type {\n",
       "        vertical-align: middle;\n",
       "    }\n",
       "\n",
       "    .dataframe tbody tr th {\n",
       "        vertical-align: top;\n",
       "    }\n",
       "\n",
       "    .dataframe thead th {\n",
       "        text-align: right;\n",
       "    }\n",
       "</style>\n",
       "<table border=\"1\" class=\"dataframe\">\n",
       "  <thead>\n",
       "    <tr style=\"text-align: right;\">\n",
       "      <th></th>\n",
       "      <th>id</th>\n",
       "      <th>target</th>\n",
       "    </tr>\n",
       "  </thead>\n",
       "  <tbody>\n",
       "    <tr>\n",
       "      <th>0</th>\n",
       "      <td>0</td>\n",
       "      <td>530.394549</td>\n",
       "    </tr>\n",
       "    <tr>\n",
       "      <th>1</th>\n",
       "      <td>1</td>\n",
       "      <td>741.487106</td>\n",
       "    </tr>\n",
       "    <tr>\n",
       "      <th>2</th>\n",
       "      <td>2</td>\n",
       "      <td>787.733117</td>\n",
       "    </tr>\n",
       "    <tr>\n",
       "      <th>3</th>\n",
       "      <td>3</td>\n",
       "      <td>1408.913442</td>\n",
       "    </tr>\n",
       "    <tr>\n",
       "      <th>4</th>\n",
       "      <td>4</td>\n",
       "      <td>1066.165837</td>\n",
       "    </tr>\n",
       "  </tbody>\n",
       "</table>\n",
       "</div>"
      ],
      "text/plain": [
       "   id       target\n",
       "0   0   530.394549\n",
       "1   1   741.487106\n",
       "2   2   787.733117\n",
       "3   3  1408.913442\n",
       "4   4  1066.165837"
      ]
     },
     "execution_count": 151,
     "metadata": {},
     "output_type": "execute_result"
    }
   ],
   "source": [
    "submission.head()"
   ]
  },
  {
   "cell_type": "markdown",
   "id": "2b6ced57",
   "metadata": {},
   "source": [
    "## Submit Prediction"
   ]
  },
  {
   "cell_type": "code",
   "execution_count": 152,
   "id": "57222270",
   "metadata": {
    "scrolled": true
   },
   "outputs": [
    {
     "data": {
      "text/plain": [
       "12"
      ]
     },
     "execution_count": 152,
     "metadata": {},
     "output_type": "execute_result"
    }
   ],
   "source": [
    "len(in_xgb_features)"
   ]
  },
  {
   "cell_type": "code",
   "execution_count": 154,
   "id": "1175f6df",
   "metadata": {},
   "outputs": [],
   "source": [
    "submission.to_csv(f\"{path}/Submissions/xgb_0509_{len(in_xgb_features)}_sqrt.csv\", index=False)"
   ]
  }
 ],
 "metadata": {
  "kernelspec": {
   "display_name": "Python 3 (ipykernel)",
   "language": "python",
   "name": "python3"
  },
  "language_info": {
   "codemirror_mode": {
    "name": "ipython",
    "version": 3
   },
   "file_extension": ".py",
   "mimetype": "text/x-python",
   "name": "python",
   "nbconvert_exporter": "python",
   "pygments_lexer": "ipython3",
   "version": "3.9.9"
  }
 },
 "nbformat": 4,
 "nbformat_minor": 5
}
